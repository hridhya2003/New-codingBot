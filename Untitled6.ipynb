{
  "nbformat": 4,
  "nbformat_minor": 0,
  "metadata": {
    "colab": {
      "provenance": [],
      "mount_file_id": "1kOGDKRB2THBvIJC9Isc-Z0C4SkrAcpGs",
      "authorship_tag": "ABX9TyNAp3rppIoR/5vINKQdGdW8",
      "include_colab_link": true
    },
    "kernelspec": {
      "name": "python3",
      "display_name": "Python 3"
    },
    "language_info": {
      "name": "python"
    }
  },
  "cells": [
    {
      "cell_type": "markdown",
      "metadata": {
        "id": "view-in-github",
        "colab_type": "text"
      },
      "source": [
        "<a href=\"https://colab.research.google.com/github/hridhya2003/New-codingBot/blob/main/Untitled6.ipynb\" target=\"_parent\"><img src=\"https://colab.research.google.com/assets/colab-badge.svg\" alt=\"Open In Colab\"/></a>"
      ]
    },
    {
      "cell_type": "code",
      "execution_count": 1,
      "metadata": {
        "id": "97HOJ4-eU_Xa"
      },
      "outputs": [],
      "source": [
        "import pandas as pd"
      ]
    },
    {
      "cell_type": "code",
      "source": [
        "path=\"/content/drive/MyDrive/dataset/HeightWeight.csv\"\n",
        "df=pd.read_csv(path)\n",
        "se_c=df.iloc[:,1]\n",
        "th_c=df.iloc[:,2]\n",
        "mean1= se_c.mean()\n",
        "mean2 = th_c.mean()\n",
        "mode1= se_c.mode().iloc[0]\n",
        "mode2= th_c.mode().iloc[0]\n",
        "median1 = se_c.median()\n",
        "median2 = se_c.median()\n",
        "print(\"mean of height:\",mean1)\n",
        "print(\"\\nMean of weight:\",mean2)\n",
        "print(\"\\nMode of height:\",mode1)\n",
        "print(\"\\nMode of weight:\",mode2)\n",
        "print(\"\\nMedian of height:\",median1)\n",
        "print(\"\\nMedian of weight:\",median2)\n"
      ],
      "metadata": {
        "colab": {
          "base_uri": "https://localhost:8080/"
        },
        "id": "sOF5GnuEVbKq",
        "outputId": "285c78ab-6e3a-4522-d427-e93107897caf"
      },
      "execution_count": 15,
      "outputs": [
        {
          "output_type": "stream",
          "name": "stdout",
          "text": [
            "mean of height: 67.99311359679999\n",
            "\n",
            "Mean of weight: 127.07942116080001\n",
            "\n",
            "Mode of height: 65.65796\n",
            "\n",
            "Mode of weight: 124.7975\n",
            "\n",
            "Median of height: 67.9957\n",
            "\n",
            "Median of weight: 67.9957\n"
          ]
        }
      ]
    },
    {
      "cell_type": "markdown",
      "source": [
        "# New Section"
      ],
      "metadata": {
        "id": "WxU37HbEc3NQ"
      }
    },
    {
      "cell_type": "code",
      "source": [],
      "metadata": {
        "id": "1gZp4f6HckP-"
      },
      "execution_count": null,
      "outputs": []
    },
    {
      "cell_type": "code",
      "source": [],
      "metadata": {
        "id": "LNZNGKi0cksL"
      },
      "execution_count": null,
      "outputs": []
    }
  ]
}